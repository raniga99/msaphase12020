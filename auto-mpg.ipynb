{
  "cells": [
    {
      "metadata": {
        "trusted": true
      },
      "cell_type": "code",
      "source": "import json\nimport sys\nsys.path.append('/home/nbuser/library/')\n\nimport pandas as pd\nimport requests\nimport matplotlib.pyplot as plt\nimport seaborn as sns \n\n\n",
      "execution_count": 79,
      "outputs": []
    },
    {
      "metadata": {
        "trusted": true
      },
      "cell_type": "code",
      "source": "data = 'https://raw.githubusercontent.com/NZMSA/2020-Phase-1/master/Data%20Science%20and%20Machine%20Learning/Dataset%20for%20Assignment.csv'\ndata2 = pd.read_csv(data,error_bad_lines = False)\ndf = pd.read_excel('otago730395.xlsx')\ndata2 = pd.merge(data2, df, left_on = 'SA1', right_on='SA12018_code')\n   \n",
      "execution_count": 76,
      "outputs": []
    },
    {
      "metadata": {
        "trusted": true
      },
      "cell_type": "code",
      "source": "def census(lon,lat):\n    url = 'https://koordinates.com/services/query/v1/vector.json'\n    params = {\n        'key': '051c5329c562478ba3aa21eb3a1fdfce',\n        'layer': '104612',\n        'x': lon,\n        'y': lat\n        }\n    response = requests.get(url, params=params)\n    if response.status_code == 200:\n        table = response.json()['vectorQuery']['layers']['104612']['features'][0]['properties']['C18_CURPop']\n        return pd.Series({\"Population\": table})\n    else:\n        return pd.Series({\"Population\": response.status_code})\n    \ndata2['Population'] = data2.apply(lambda x: census(x[\"Longitude\"],x[\"Latitude\"]), axis = 1)\ndata2.head()\n\n",
      "execution_count": 77,
      "outputs": [
        {
          "output_type": "execute_result",
          "execution_count": 77,
          "data": {
            "text/html": "<div>\n<style scoped>\n    .dataframe tbody tr th:only-of-type {\n        vertical-align: middle;\n    }\n\n    .dataframe tbody tr th {\n        vertical-align: top;\n    }\n\n    .dataframe thead th {\n        text-align: right;\n    }\n</style>\n<table border=\"1\" class=\"dataframe\">\n  <thead>\n    <tr style=\"text-align: right;\">\n      <th></th>\n      <th>Bedrooms</th>\n      <th>Bathrooms</th>\n      <th>Address</th>\n      <th>Land area</th>\n      <th>CV</th>\n      <th>Latitude</th>\n      <th>Longitude</th>\n      <th>SA1</th>\n      <th>0-19 years</th>\n      <th>20-29 years</th>\n      <th>...</th>\n      <th>50-59 years</th>\n      <th>60+ years</th>\n      <th>Suburbs</th>\n      <th>SA12018_code</th>\n      <th>NZDep2018</th>\n      <th>NZDep2018_Score</th>\n      <th>URPopnSA1_2018</th>\n      <th>SA22018_code</th>\n      <th>SA22018_name</th>\n      <th>Population</th>\n    </tr>\n  </thead>\n  <tbody>\n    <tr>\n      <th>0</th>\n      <td>5</td>\n      <td>3.0</td>\n      <td>106 Lawrence Crescent Hill Park, Auckland</td>\n      <td>714</td>\n      <td>960000</td>\n      <td>-37.012920</td>\n      <td>174.904069</td>\n      <td>7009770</td>\n      <td>48</td>\n      <td>27</td>\n      <td>...</td>\n      <td>24</td>\n      <td>21</td>\n      <td>Manurewa</td>\n      <td>7009770</td>\n      <td>6.0</td>\n      <td>997.0</td>\n      <td>174</td>\n      <td>159600</td>\n      <td>Hillpark North</td>\n      <td>174</td>\n    </tr>\n    <tr>\n      <th>1</th>\n      <td>5</td>\n      <td>3.0</td>\n      <td>8 Corsica Way Karaka, Auckland</td>\n      <td>564</td>\n      <td>1250000</td>\n      <td>-37.063672</td>\n      <td>174.922912</td>\n      <td>7009991</td>\n      <td>42</td>\n      <td>18</td>\n      <td>...</td>\n      <td>15</td>\n      <td>30</td>\n      <td>Karaka</td>\n      <td>7009991</td>\n      <td>1.0</td>\n      <td>881.0</td>\n      <td>129</td>\n      <td>162500</td>\n      <td>Hingaia</td>\n      <td>129</td>\n    </tr>\n    <tr>\n      <th>2</th>\n      <td>6</td>\n      <td>4.0</td>\n      <td>243 Harbourside Drive Karaka, Auckland</td>\n      <td>626</td>\n      <td>1250000</td>\n      <td>-37.063580</td>\n      <td>174.924044</td>\n      <td>7009991</td>\n      <td>42</td>\n      <td>18</td>\n      <td>...</td>\n      <td>15</td>\n      <td>30</td>\n      <td>Karaka</td>\n      <td>7009991</td>\n      <td>1.0</td>\n      <td>881.0</td>\n      <td>129</td>\n      <td>162500</td>\n      <td>Hingaia</td>\n      <td>129</td>\n    </tr>\n    <tr>\n      <th>3</th>\n      <td>2</td>\n      <td>1.0</td>\n      <td>2/30 Hardington Street Onehunga, Auckland</td>\n      <td>65</td>\n      <td>740000</td>\n      <td>-36.912996</td>\n      <td>174.787425</td>\n      <td>7007871</td>\n      <td>42</td>\n      <td>6</td>\n      <td>...</td>\n      <td>12</td>\n      <td>15</td>\n      <td>Onehunga</td>\n      <td>7007871</td>\n      <td>2.0</td>\n      <td>908.0</td>\n      <td>120</td>\n      <td>144300</td>\n      <td>Onehunga North</td>\n      <td>120</td>\n    </tr>\n    <tr>\n      <th>4</th>\n      <td>3</td>\n      <td>1.0</td>\n      <td>59 Israel Avenue Clover Park, Auckland</td>\n      <td>601</td>\n      <td>630000</td>\n      <td>-36.979037</td>\n      <td>174.892612</td>\n      <td>7008902</td>\n      <td>93</td>\n      <td>27</td>\n      <td>...</td>\n      <td>21</td>\n      <td>33</td>\n      <td>Clover Park</td>\n      <td>7008902</td>\n      <td>9.0</td>\n      <td>1091.0</td>\n      <td>231</td>\n      <td>157700</td>\n      <td>Clover Park North</td>\n      <td>231</td>\n    </tr>\n  </tbody>\n</table>\n<p>5 rows × 22 columns</p>\n</div>",
            "text/plain": "   Bedrooms  Bathrooms                                    Address Land area  \\\n0         5        3.0  106 Lawrence Crescent Hill Park, Auckland       714   \n1         5        3.0             8 Corsica Way Karaka, Auckland       564   \n2         6        4.0     243 Harbourside Drive Karaka, Auckland       626   \n3         2        1.0  2/30 Hardington Street Onehunga, Auckland        65   \n4         3        1.0     59 Israel Avenue Clover Park, Auckland       601   \n\n        CV   Latitude   Longitude      SA1  0-19 years  20-29 years  \\\n0   960000 -37.012920  174.904069  7009770          48           27   \n1  1250000 -37.063672  174.922912  7009991          42           18   \n2  1250000 -37.063580  174.924044  7009991          42           18   \n3   740000 -36.912996  174.787425  7007871          42            6   \n4   630000 -36.979037  174.892612  7008902          93           27   \n\n      ...      50-59 years  60+ years      Suburbs  SA12018_code NZDep2018  \\\n0     ...               24         21     Manurewa       7009770       6.0   \n1     ...               15         30       Karaka       7009991       1.0   \n2     ...               15         30       Karaka       7009991       1.0   \n3     ...               12         15     Onehunga       7007871       2.0   \n4     ...               21         33  Clover Park       7008902       9.0   \n\n   NZDep2018_Score  URPopnSA1_2018  SA22018_code       SA22018_name  \\\n0            997.0             174        159600     Hillpark North   \n1            881.0             129        162500            Hingaia   \n2            881.0             129        162500            Hingaia   \n3            908.0             120        144300     Onehunga North   \n4           1091.0             231        157700  Clover Park North   \n\n   Population  \n0         174  \n1         129  \n2         129  \n3         120  \n4         231  \n\n[5 rows x 22 columns]"
          },
          "metadata": {}
        }
      ]
    },
    {
      "metadata": {
        "trusted": true
      },
      "cell_type": "code",
      "source": "data2.isnull().values.any()",
      "execution_count": 82,
      "outputs": [
        {
          "output_type": "execute_result",
          "execution_count": 82,
          "data": {
            "text/plain": "True"
          },
          "metadata": {}
        }
      ]
    },
    {
      "metadata": {
        "trusted": true
      },
      "cell_type": "code",
      "source": "data2 = data2.dropna()\n",
      "execution_count": 84,
      "outputs": []
    },
    {
      "metadata": {
        "trusted": true
      },
      "cell_type": "code",
      "source": "data2.isnull().values.any()",
      "execution_count": 85,
      "outputs": [
        {
          "output_type": "execute_result",
          "execution_count": 85,
          "data": {
            "text/plain": "False"
          },
          "metadata": {}
        }
      ]
    },
    {
      "metadata": {
        "trusted": true
      },
      "cell_type": "code",
      "source": "data2.describe()",
      "execution_count": 86,
      "outputs": [
        {
          "output_type": "execute_result",
          "execution_count": 86,
          "data": {
            "text/html": "<div>\n<style scoped>\n    .dataframe tbody tr th:only-of-type {\n        vertical-align: middle;\n    }\n\n    .dataframe tbody tr th {\n        vertical-align: top;\n    }\n\n    .dataframe thead th {\n        text-align: right;\n    }\n</style>\n<table border=\"1\" class=\"dataframe\">\n  <thead>\n    <tr style=\"text-align: right;\">\n      <th></th>\n      <th>Bedrooms</th>\n      <th>Bathrooms</th>\n      <th>Land area</th>\n      <th>CV</th>\n      <th>Latitude</th>\n      <th>Longitude</th>\n      <th>SA1</th>\n      <th>0-19 years</th>\n      <th>20-29 years</th>\n      <th>30-39 years</th>\n      <th>40-49 years</th>\n      <th>50-59 years</th>\n      <th>60+ years</th>\n      <th>SA12018_code</th>\n      <th>NZDep2018</th>\n      <th>NZDep2018_Score</th>\n      <th>URPopnSA1_2018</th>\n      <th>SA22018_code</th>\n      <th>Population</th>\n    </tr>\n  </thead>\n  <tbody>\n    <tr>\n      <th>count</th>\n      <td>1048.000000</td>\n      <td>1048.000000</td>\n      <td>1048.000000</td>\n      <td>1.048000e+03</td>\n      <td>1048.000000</td>\n      <td>1048.000000</td>\n      <td>1.048000e+03</td>\n      <td>1048.000000</td>\n      <td>1048.000000</td>\n      <td>1048.00000</td>\n      <td>1048.000000</td>\n      <td>1048.000000</td>\n      <td>1048.000000</td>\n      <td>1.048000e+03</td>\n      <td>1048.000000</td>\n      <td>1048.000000</td>\n      <td>1048.000000</td>\n      <td>1048.000000</td>\n      <td>1048.000000</td>\n    </tr>\n    <tr>\n      <th>mean</th>\n      <td>3.779580</td>\n      <td>2.074427</td>\n      <td>856.961832</td>\n      <td>1.388544e+06</td>\n      <td>-36.894561</td>\n      <td>174.799026</td>\n      <td>7.006332e+06</td>\n      <td>47.544847</td>\n      <td>28.915076</td>\n      <td>27.00000</td>\n      <td>24.131679</td>\n      <td>22.597328</td>\n      <td>29.353053</td>\n      <td>7.006332e+06</td>\n      <td>5.065840</td>\n      <td>986.518130</td>\n      <td>179.799618</td>\n      <td>141598.377863</td>\n      <td>179.799618</td>\n    </tr>\n    <tr>\n      <th>std</th>\n      <td>1.167894</td>\n      <td>0.992904</td>\n      <td>1589.698071</td>\n      <td>1.184422e+06</td>\n      <td>0.128426</td>\n      <td>0.117991</td>\n      <td>2.583920e+03</td>\n      <td>24.713408</td>\n      <td>20.993232</td>\n      <td>17.93158</td>\n      <td>10.956798</td>\n      <td>10.212455</td>\n      <td>21.810055</td>\n      <td>2.583920e+03</td>\n      <td>2.912027</td>\n      <td>94.271599</td>\n      <td>71.087298</td>\n      <td>14626.088715</td>\n      <td>71.087298</td>\n    </tr>\n    <tr>\n      <th>min</th>\n      <td>1.000000</td>\n      <td>1.000000</td>\n      <td>40.000000</td>\n      <td>2.700000e+05</td>\n      <td>-37.265021</td>\n      <td>174.317078</td>\n      <td>7.001130e+06</td>\n      <td>0.000000</td>\n      <td>0.000000</td>\n      <td>0.00000</td>\n      <td>0.000000</td>\n      <td>0.000000</td>\n      <td>0.000000</td>\n      <td>7.001130e+06</td>\n      <td>1.000000</td>\n      <td>849.000000</td>\n      <td>3.000000</td>\n      <td>110400.000000</td>\n      <td>3.000000</td>\n    </tr>\n    <tr>\n      <th>25%</th>\n      <td>3.000000</td>\n      <td>1.000000</td>\n      <td>323.000000</td>\n      <td>7.800000e+05</td>\n      <td>-36.950873</td>\n      <td>174.722226</td>\n      <td>7.004426e+06</td>\n      <td>33.000000</td>\n      <td>15.000000</td>\n      <td>15.00000</td>\n      <td>18.000000</td>\n      <td>15.000000</td>\n      <td>18.000000</td>\n      <td>7.004426e+06</td>\n      <td>2.000000</td>\n      <td>918.000000</td>\n      <td>138.000000</td>\n      <td>132300.000000</td>\n      <td>138.000000</td>\n    </tr>\n    <tr>\n      <th>50%</th>\n      <td>4.000000</td>\n      <td>2.000000</td>\n      <td>571.500000</td>\n      <td>1.080000e+06</td>\n      <td>-36.893409</td>\n      <td>174.798612</td>\n      <td>7.006334e+06</td>\n      <td>45.000000</td>\n      <td>24.000000</td>\n      <td>24.00000</td>\n      <td>24.000000</td>\n      <td>21.000000</td>\n      <td>27.000000</td>\n      <td>7.006334e+06</td>\n      <td>5.000000</td>\n      <td>959.000000</td>\n      <td>174.000000</td>\n      <td>141900.000000</td>\n      <td>174.000000</td>\n    </tr>\n    <tr>\n      <th>75%</th>\n      <td>4.000000</td>\n      <td>3.000000</td>\n      <td>825.000000</td>\n      <td>1.600000e+06</td>\n      <td>-36.856280</td>\n      <td>174.880943</td>\n      <td>7.008390e+06</td>\n      <td>57.000000</td>\n      <td>36.000000</td>\n      <td>33.00000</td>\n      <td>30.000000</td>\n      <td>27.000000</td>\n      <td>36.000000</td>\n      <td>7.008390e+06</td>\n      <td>8.000000</td>\n      <td>1031.000000</td>\n      <td>207.750000</td>\n      <td>152825.000000</td>\n      <td>207.750000</td>\n    </tr>\n    <tr>\n      <th>max</th>\n      <td>17.000000</td>\n      <td>8.000000</td>\n      <td>22240.000000</td>\n      <td>1.800000e+07</td>\n      <td>-36.177655</td>\n      <td>175.492424</td>\n      <td>7.011028e+06</td>\n      <td>201.000000</td>\n      <td>270.000000</td>\n      <td>177.00000</td>\n      <td>114.000000</td>\n      <td>90.000000</td>\n      <td>483.000000</td>\n      <td>7.011028e+06</td>\n      <td>10.000000</td>\n      <td>1380.000000</td>\n      <td>789.000000</td>\n      <td>170500.000000</td>\n      <td>789.000000</td>\n    </tr>\n  </tbody>\n</table>\n</div>",
            "text/plain": "          Bedrooms    Bathrooms     Land area            CV     Latitude  \\\ncount  1048.000000  1048.000000   1048.000000  1.048000e+03  1048.000000   \nmean      3.779580     2.074427    856.961832  1.388544e+06   -36.894561   \nstd       1.167894     0.992904   1589.698071  1.184422e+06     0.128426   \nmin       1.000000     1.000000     40.000000  2.700000e+05   -37.265021   \n25%       3.000000     1.000000    323.000000  7.800000e+05   -36.950873   \n50%       4.000000     2.000000    571.500000  1.080000e+06   -36.893409   \n75%       4.000000     3.000000    825.000000  1.600000e+06   -36.856280   \nmax      17.000000     8.000000  22240.000000  1.800000e+07   -36.177655   \n\n         Longitude           SA1   0-19 years  20-29 years  30-39 years  \\\ncount  1048.000000  1.048000e+03  1048.000000  1048.000000   1048.00000   \nmean    174.799026  7.006332e+06    47.544847    28.915076     27.00000   \nstd       0.117991  2.583920e+03    24.713408    20.993232     17.93158   \nmin     174.317078  7.001130e+06     0.000000     0.000000      0.00000   \n25%     174.722226  7.004426e+06    33.000000    15.000000     15.00000   \n50%     174.798612  7.006334e+06    45.000000    24.000000     24.00000   \n75%     174.880943  7.008390e+06    57.000000    36.000000     33.00000   \nmax     175.492424  7.011028e+06   201.000000   270.000000    177.00000   \n\n       40-49 years  50-59 years    60+ years  SA12018_code    NZDep2018  \\\ncount  1048.000000  1048.000000  1048.000000  1.048000e+03  1048.000000   \nmean     24.131679    22.597328    29.353053  7.006332e+06     5.065840   \nstd      10.956798    10.212455    21.810055  2.583920e+03     2.912027   \nmin       0.000000     0.000000     0.000000  7.001130e+06     1.000000   \n25%      18.000000    15.000000    18.000000  7.004426e+06     2.000000   \n50%      24.000000    21.000000    27.000000  7.006334e+06     5.000000   \n75%      30.000000    27.000000    36.000000  7.008390e+06     8.000000   \nmax     114.000000    90.000000   483.000000  7.011028e+06    10.000000   \n\n       NZDep2018_Score  URPopnSA1_2018   SA22018_code   Population  \ncount      1048.000000     1048.000000    1048.000000  1048.000000  \nmean        986.518130      179.799618  141598.377863   179.799618  \nstd          94.271599       71.087298   14626.088715    71.087298  \nmin         849.000000        3.000000  110400.000000     3.000000  \n25%         918.000000      138.000000  132300.000000   138.000000  \n50%         959.000000      174.000000  141900.000000   174.000000  \n75%        1031.000000      207.750000  152825.000000   207.750000  \nmax        1380.000000      789.000000  170500.000000   789.000000  "
          },
          "metadata": {}
        }
      ]
    },
    {
      "metadata": {
        "trusted": true
      },
      "cell_type": "code",
      "source": "def remove_m(area):\n    if area[-2] == \"m\":\n        return float(area[:-2])\n    else:\n        return float(area)\n    \ndata2[\"Land area\"] = data2[\"Land area\"].apply(remove_m)\n",
      "execution_count": 89,
      "outputs": [
        {
          "output_type": "error",
          "ename": "TypeError",
          "evalue": "'float' object is not subscriptable",
          "traceback": [
            "\u001b[0;31m---------------------------------------------------------------------------\u001b[0m",
            "\u001b[0;31mTypeError\u001b[0m                                 Traceback (most recent call last)",
            "\u001b[0;32m<ipython-input-89-42d4471c1ac3>\u001b[0m in \u001b[0;36m<module>\u001b[0;34m\u001b[0m\n\u001b[1;32m      5\u001b[0m         \u001b[0;32mreturn\u001b[0m \u001b[0mfloat\u001b[0m\u001b[0;34m(\u001b[0m\u001b[0marea\u001b[0m\u001b[0;34m)\u001b[0m\u001b[0;34m\u001b[0m\u001b[0m\n\u001b[1;32m      6\u001b[0m \u001b[0;34m\u001b[0m\u001b[0m\n\u001b[0;32m----> 7\u001b[0;31m \u001b[0mdata2\u001b[0m\u001b[0;34m[\u001b[0m\u001b[0;34m\"Land area\"\u001b[0m\u001b[0;34m]\u001b[0m \u001b[0;34m=\u001b[0m \u001b[0mdata2\u001b[0m\u001b[0;34m[\u001b[0m\u001b[0;34m\"Land area\"\u001b[0m\u001b[0;34m]\u001b[0m\u001b[0;34m.\u001b[0m\u001b[0mapply\u001b[0m\u001b[0;34m(\u001b[0m\u001b[0mremove_m\u001b[0m\u001b[0;34m)\u001b[0m\u001b[0;34m\u001b[0m\u001b[0m\n\u001b[0m\u001b[1;32m      8\u001b[0m \u001b[0;34m\u001b[0m\u001b[0m\n\u001b[1;32m      9\u001b[0m \u001b[0;34m\u001b[0m\u001b[0m\n",
            "\u001b[0;32m~/anaconda3_501/lib/python3.6/site-packages/pandas/core/series.py\u001b[0m in \u001b[0;36mapply\u001b[0;34m(self, func, convert_dtype, args, **kwds)\u001b[0m\n\u001b[1;32m   3192\u001b[0m             \u001b[0;32melse\u001b[0m\u001b[0;34m:\u001b[0m\u001b[0;34m\u001b[0m\u001b[0m\n\u001b[1;32m   3193\u001b[0m                 \u001b[0mvalues\u001b[0m \u001b[0;34m=\u001b[0m \u001b[0mself\u001b[0m\u001b[0;34m.\u001b[0m\u001b[0mastype\u001b[0m\u001b[0;34m(\u001b[0m\u001b[0mobject\u001b[0m\u001b[0;34m)\u001b[0m\u001b[0;34m.\u001b[0m\u001b[0mvalues\u001b[0m\u001b[0;34m\u001b[0m\u001b[0m\n\u001b[0;32m-> 3194\u001b[0;31m                 \u001b[0mmapped\u001b[0m \u001b[0;34m=\u001b[0m \u001b[0mlib\u001b[0m\u001b[0;34m.\u001b[0m\u001b[0mmap_infer\u001b[0m\u001b[0;34m(\u001b[0m\u001b[0mvalues\u001b[0m\u001b[0;34m,\u001b[0m \u001b[0mf\u001b[0m\u001b[0;34m,\u001b[0m \u001b[0mconvert\u001b[0m\u001b[0;34m=\u001b[0m\u001b[0mconvert_dtype\u001b[0m\u001b[0;34m)\u001b[0m\u001b[0;34m\u001b[0m\u001b[0m\n\u001b[0m\u001b[1;32m   3195\u001b[0m \u001b[0;34m\u001b[0m\u001b[0m\n\u001b[1;32m   3196\u001b[0m         \u001b[0;32mif\u001b[0m \u001b[0mlen\u001b[0m\u001b[0;34m(\u001b[0m\u001b[0mmapped\u001b[0m\u001b[0;34m)\u001b[0m \u001b[0;32mand\u001b[0m \u001b[0misinstance\u001b[0m\u001b[0;34m(\u001b[0m\u001b[0mmapped\u001b[0m\u001b[0;34m[\u001b[0m\u001b[0;36m0\u001b[0m\u001b[0;34m]\u001b[0m\u001b[0;34m,\u001b[0m \u001b[0mSeries\u001b[0m\u001b[0;34m)\u001b[0m\u001b[0;34m:\u001b[0m\u001b[0;34m\u001b[0m\u001b[0m\n",
            "\u001b[0;32mpandas/_libs/src/inference.pyx\u001b[0m in \u001b[0;36mpandas._libs.lib.map_infer\u001b[0;34m()\u001b[0m\n",
            "\u001b[0;32m<ipython-input-89-42d4471c1ac3>\u001b[0m in \u001b[0;36mremove_m\u001b[0;34m(area)\u001b[0m\n\u001b[1;32m      1\u001b[0m \u001b[0;32mdef\u001b[0m \u001b[0mremove_m\u001b[0m\u001b[0;34m(\u001b[0m\u001b[0marea\u001b[0m\u001b[0;34m)\u001b[0m\u001b[0;34m:\u001b[0m\u001b[0;34m\u001b[0m\u001b[0m\n\u001b[0;32m----> 2\u001b[0;31m     \u001b[0;32mif\u001b[0m \u001b[0marea\u001b[0m\u001b[0;34m[\u001b[0m\u001b[0;34m-\u001b[0m\u001b[0;36m2\u001b[0m\u001b[0;34m]\u001b[0m \u001b[0;34m==\u001b[0m \u001b[0;34m\"m\"\u001b[0m\u001b[0;34m:\u001b[0m\u001b[0;34m\u001b[0m\u001b[0m\n\u001b[0m\u001b[1;32m      3\u001b[0m         \u001b[0;32mreturn\u001b[0m \u001b[0mfloat\u001b[0m\u001b[0;34m(\u001b[0m\u001b[0marea\u001b[0m\u001b[0;34m[\u001b[0m\u001b[0;34m:\u001b[0m\u001b[0;34m-\u001b[0m\u001b[0;36m2\u001b[0m\u001b[0;34m]\u001b[0m\u001b[0;34m)\u001b[0m\u001b[0;34m\u001b[0m\u001b[0m\n\u001b[1;32m      4\u001b[0m     \u001b[0;32melse\u001b[0m\u001b[0;34m:\u001b[0m\u001b[0;34m\u001b[0m\u001b[0m\n\u001b[1;32m      5\u001b[0m         \u001b[0;32mreturn\u001b[0m \u001b[0mfloat\u001b[0m\u001b[0;34m(\u001b[0m\u001b[0marea\u001b[0m\u001b[0;34m)\u001b[0m\u001b[0;34m\u001b[0m\u001b[0m\n",
            "\u001b[0;31mTypeError\u001b[0m: 'float' object is not subscriptable"
          ]
        }
      ]
    },
    {
      "metadata": {
        "trusted": true
      },
      "cell_type": "code",
      "source": "data2.dtypes",
      "execution_count": 80,
      "outputs": [
        {
          "output_type": "execute_result",
          "execution_count": 80,
          "data": {
            "text/plain": "Bedrooms             int64\nBathrooms          float64\nAddress             object\nLand area          float64\nCV                   int64\nLatitude           float64\nLongitude          float64\nSA1                  int64\n0-19 years           int64\n20-29 years          int64\n30-39 years          int64\n40-49 years          int64\n50-59 years          int64\n60+ years            int64\nSuburbs             object\nSA12018_code         int64\nNZDep2018          float64\nNZDep2018_Score    float64\nURPopnSA1_2018       int64\nSA22018_code         int64\nSA22018_name        object\nPopulation           int64\ndtype: object"
          },
          "metadata": {}
        }
      ]
    },
    {
      "metadata": {
        "trusted": true
      },
      "cell_type": "code",
      "source": "datam = data2.drop(\"Latitude\", axis =1)\ndatam = datam.drop(\"Longitude\", axis = 1)\ndatam = datam.drop(\"SA1\", axis = 1)\ndatam = datam.drop(\"SA12018_code\", axis = 1)\ndatam = datam.drop(\"0-19 years\", axis = 1)\ndatam = datam.drop(\"20-29 years\", axis = 1)\ndatam = datam.drop(\"30-39 years\", axis = 1)\ndatam = datam.drop(\"40-49 years\", axis = 1)\ndatam = datam.drop(\"50-59 years\", axis = 1)\ndatam = datam.drop(\"60+ years\", axis = 1)\n\n\ndatam.hist(figsize = (10,10))\n\n\n",
      "execution_count": null,
      "outputs": []
    },
    {
      "metadata": {
        "trusted": true
      },
      "cell_type": "code",
      "source": "sns.pairplot(datam, size=2.0)",
      "execution_count": null,
      "outputs": []
    },
    {
      "metadata": {
        "trusted": true
      },
      "cell_type": "code",
      "source": "ax, fig = plt.subplots(figsize=(16, 10))\ncorrelation_matrix = datam.corr()\nsns.heatmap(correlation_matrix, annot=True, cmap=\"OrRd\")",
      "execution_count": null,
      "outputs": []
    },
    {
      "metadata": {
        "trusted": true
      },
      "cell_type": "code",
      "source": "\nx = datam\ny = datam[\"CV\"]\ntrain_x, test_x, train_y, test_y = train_test_split(x, y, test_size=0.3, random_state=42)\n\nmodel = LinearRegression()\nmodel.fit(train_x, train_y)",
      "execution_count": null,
      "outputs": []
    },
    {
      "metadata": {
        "trusted": true
      },
      "cell_type": "code",
      "source": "model.coef_",
      "execution_count": null,
      "outputs": []
    },
    {
      "metadata": {
        "trusted": true
      },
      "cell_type": "code",
      "source": "predicted = model.predict(test_x)",
      "execution_count": null,
      "outputs": []
    },
    {
      "metadata": {
        "trusted": true
      },
      "cell_type": "code",
      "source": "plt.scatter(test_y, predicted)",
      "execution_count": null,
      "outputs": []
    },
    {
      "metadata": {
        "trusted": true
      },
      "cell_type": "code",
      "source": "model.score(test_x, test_y)",
      "execution_count": null,
      "outputs": []
    }
  ],
  "metadata": {
    "kernelspec": {
      "name": "python36",
      "display_name": "Python 3.6",
      "language": "python"
    },
    "language_info": {
      "mimetype": "text/x-python",
      "nbconvert_exporter": "python",
      "name": "python",
      "pygments_lexer": "ipython3",
      "version": "3.6.6",
      "file_extension": ".py",
      "codemirror_mode": {
        "version": 3,
        "name": "ipython"
      }
    }
  },
  "nbformat": 4,
  "nbformat_minor": 2
}